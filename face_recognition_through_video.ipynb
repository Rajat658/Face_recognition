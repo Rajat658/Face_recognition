{
 "cells": [
  {
   "cell_type": "code",
   "execution_count": 3,
   "metadata": {},
   "outputs": [],
   "source": [
    "import numpy as np\n",
    "import face_recognition as fr\n",
    "import cv2\n",
    "\n",
    "video_capture = cv2.VideoCapture(0)\n",
    "\n",
    "image = fr.load_image_file(\"enter the l\")\n",
    "_face_encoding = fr.face_encodings(image)[0]\n",
    "\n",
    "known_face_encondings = [_face_encoding]\n",
    "known_face_names = [\"Enter the name of the preson in image here\"]\n",
    "\n",
    "while True: \n",
    "    ret, frame = video_capture.read()\n",
    "\n",
    "    rgb_frame = frame[:, :, ::-1]\n",
    "\n",
    "    face_locations = fr.face_locations(rgb_frame)\n",
    "    face_encodings = fr.face_encodings(rgb_frame, face_locations)\n",
    "\n",
    "    for (top, right, bottom, left), face_encoding in zip(face_locations, face_encodings):\n",
    "\n",
    "        matches = fr.compare_faces(known_face_encondings, face_encoding)\n",
    "\n",
    "        name = \"Unknown\"\n",
    "\n",
    "        face_distances = fr.face_distance(known_face_encondings, face_encoding)\n",
    "\n",
    "        best_match_index = np.argmin(face_distances)\n",
    "        if matches[best_match_index]:\n",
    "            name = known_face_names[best_match_index]\n",
    "        \n",
    "        cv2.rectangle(frame, (left, top), (right, bottom), (0,0,0), 2)\n",
    "\n",
    "        cv2.rectangle(frame, (left, bottom -35), (right, bottom), (0, 0,0), cv2.FILLED)\n",
    "        font = cv2.FONT_HERSHEY_SIMPLEX\n",
    "        cv2.putText(frame, name, (left + 6, bottom - 6), font, 1.0, (255, 255, 255), 1)\n",
    "\n",
    "    cv2.imshow('Webcam_facerecognition', frame)\n",
    "\n",
    "    if cv2.waitKey(1) & 0xFF == ord('q'):\n",
    "        break\n",
    "\n",
    "video_capture.release()\n",
    "cv2.destroyAllWindows()"
   ]
  },
  {
   "cell_type": "code",
   "execution_count": null,
   "metadata": {},
   "outputs": [],
   "source": []
  }
 ],
 "metadata": {
  "kernelspec": {
   "display_name": "Python 3",
   "language": "python",
   "name": "python3"
  },
  "language_info": {
   "codemirror_mode": {
    "name": "ipython",
    "version": 3
   },
   "file_extension": ".py",
   "mimetype": "text/x-python",
   "name": "python",
   "nbconvert_exporter": "python",
   "pygments_lexer": "ipython3",
   "version": "3.8.0"
  }
 },
 "nbformat": 4,
 "nbformat_minor": 4
}
