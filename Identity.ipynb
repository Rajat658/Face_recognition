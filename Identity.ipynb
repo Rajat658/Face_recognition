{
 "cells": [
  {
   "cell_type": "code",
   "execution_count": 6,
   "metadata": {},
   "outputs": [],
   "source": [
    "import face_recognition as face\n",
    "from PIL import Image,ImageDraw"
   ]
  },
  {
   "cell_type": "code",
   "execution_count": 7,
   "metadata": {},
   "outputs": [],
   "source": [
    "steve_face=face.load_image_file(\"img/known/Steve Jobs.jpg\")\n",
    "steve_face_encoding=face.face_encodings(steve_face)[0]"
   ]
  },
  {
   "cell_type": "code",
   "execution_count": 32,
   "metadata": {},
   "outputs": [],
   "source": [
    "bill_face=face.load_image_file(\"img/known/Bill Gates.jpg\")\n",
    "bill_face_encoding=face.face_encodings(bill_face)[0]"
   ]
  },
  {
   "cell_type": "code",
   "execution_count": 38,
   "metadata": {},
   "outputs": [],
   "source": [
    "trump_face=face.load_image_file(\"img/known/Bill Gates.jpg\")\n",
    "trump_face_encoding=face.face_encodings(bill_face)[0]"
   ]
  },
  {
   "cell_type": "code",
   "execution_count": 39,
   "metadata": {},
   "outputs": [],
   "source": [
    "known_face_encodings=[\n",
    "    bill_face_encoding,\n",
    "    steve_face_encoding,\n",
    "    trump_face_encoding\n",
    "]"
   ]
  },
  {
   "cell_type": "code",
   "execution_count": 40,
   "metadata": {},
   "outputs": [],
   "source": [
    "known_face_name=[\n",
    "    'Bill Gate',\n",
    "    'Steve JObs',\n",
    "    'Donald Trump'\n",
    "]"
   ]
  },
  {
   "cell_type": "code",
   "execution_count": 44,
   "metadata": {},
   "outputs": [],
   "source": [
    "test_face=face.load_image_file(\"img/groups/bill-steve.jpg\")\n",
    "test_face_location=face.face_locations(test_face)\n",
    "test_face_encoding=face.face_encodings(test_face,test_face_location)"
   ]
  },
  {
   "cell_type": "code",
   "execution_count": 45,
   "metadata": {},
   "outputs": [],
   "source": [
    "pil_image=Image.fromarray(test_face)\n",
    "draw=ImageDraw.Draw(pil_image)"
   ]
  },
  {
   "cell_type": "code",
   "execution_count": 46,
   "metadata": {},
   "outputs": [],
   "source": [
    "for (top,right,bottom,left),face_location in zip(test_face_location,test_face_encoding):\n",
    "    matches=face.compare_faces(known_face_encodings,face_location)\n",
    "    \n",
    "    name=\"Unknown Person\"\n",
    "    \n",
    "    if True in matches:\n",
    "        first_match_index=matches.index(True)\n",
    "        name=known_face_name[first_match_index]\n",
    "    draw.rectangle(((left,top),(right,bottom)),outline=(0,0,0))\n",
    "    text_width,text_height=draw.textsize(name)\n",
    "    draw.rectangle(((left,bottom - text_height - 10), (right, bottom)), fill=(255,255,0), outline=(255,255,0))\n",
    "    draw.text((left + 6, bottom - text_height - 5), name, fill=(0,0,0))\n",
    "del draw\n",
    "# Display image\n",
    "pil_image.show()\n",
    "\n",
    "# Save image\n",
    "pil_image.save('identify1.jpg')"
   ]
  },
  {
   "cell_type": "code",
   "execution_count": null,
   "metadata": {},
   "outputs": [],
   "source": []
  }
 ],
 "metadata": {
  "kernelspec": {
   "display_name": "Python 3",
   "language": "python",
   "name": "python3"
  },
  "language_info": {
   "codemirror_mode": {
    "name": "ipython",
    "version": 3
   },
   "file_extension": ".py",
   "mimetype": "text/x-python",
   "name": "python",
   "nbconvert_exporter": "python",
   "pygments_lexer": "ipython3",
   "version": "3.8.0"
  }
 },
 "nbformat": 4,
 "nbformat_minor": 4
}
