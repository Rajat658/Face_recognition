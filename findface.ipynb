{
 "cells": [
  {
   "cell_type": "markdown",
   "metadata": {},
   "source": [
    "# Import face_recognition and image to find face"
   ]
  },
  {
   "cell_type": "code",
   "execution_count": 15,
   "metadata": {},
   "outputs": [],
   "source": [
    "import face_recognition as face\n",
    "image=face.load_image_file(\"img/known/Barack Obama.jpg\")"
   ]
  },
  {
   "cell_type": "markdown",
   "metadata": {},
   "source": [
    "# Find Location of face in the Image"
   ]
  },
  {
   "cell_type": "code",
   "execution_count": 25,
   "metadata": {},
   "outputs": [
    {
     "name": "stdout",
     "output_type": "stream",
     "text": [
      "[(67, 239, 196, 110)]\n"
     ]
    }
   ],
   "source": [
    "face_location=face.face_locations(image)\n",
    "print(face_location)"
   ]
  },
  {
   "cell_type": "markdown",
   "metadata": {},
   "source": [
    "# pass the face_location list to the face_encodings() in the Face Recognition class"
   ]
  },
  {
   "cell_type": "code",
   "execution_count": 20,
   "metadata": {},
   "outputs": [],
   "source": [
    "face_encoding=face.face_encodings(face_loaction)[0]"
   ]
  },
  {
   "cell_type": "code",
   "execution_count": 21,
   "metadata": {},
   "outputs": [
    {
     "name": "stdout",
     "output_type": "stream",
     "text": [
      "[-6.71072900e-02  1.36808917e-01  7.43594915e-02 -2.82558110e-02\n",
      " -4.85887402e-04 -8.32468458e-03 -1.19329520e-01 -6.68661743e-02\n",
      "  1.77013382e-01 -1.52584910e-01  2.60828674e-01  7.10930079e-02\n",
      " -2.23151043e-01 -1.26546368e-01  7.91551694e-02  1.58027574e-01\n",
      " -2.39773989e-01 -8.04507583e-02 -9.76685286e-02 -6.49555102e-02\n",
      "  2.81922985e-04 -9.07724258e-03  7.19746053e-02  5.82364462e-02\n",
      " -8.46454427e-02 -3.84064883e-01 -7.11164176e-02 -1.39915347e-01\n",
      "  1.67313032e-04 -1.76490128e-01 -1.08618505e-01 -3.42989415e-02\n",
      " -1.64243087e-01 -1.02986619e-01 -8.66360031e-03 -2.23289710e-03\n",
      " -5.52635081e-03 -1.76799633e-02  1.76755428e-01  3.61240357e-02\n",
      " -1.30262583e-01  6.90173283e-02 -6.62695616e-03  2.32662126e-01\n",
      "  2.54551560e-01  1.19907439e-01  2.62665190e-02 -5.80806807e-02\n",
      "  1.39847383e-01 -2.21908450e-01  5.87312952e-02  1.67862445e-01\n",
      "  8.94496143e-02  3.63688543e-02  1.02123320e-01 -2.07843184e-01\n",
      " -2.20164414e-02  9.17573571e-02 -8.10380131e-02  6.27529249e-02\n",
      "  5.40648252e-02 -7.31730536e-02  3.40846293e-02  5.87553196e-02\n",
      "  1.99516773e-01  4.08718549e-02 -1.13866992e-01 -4.84399386e-02\n",
      "  1.13705218e-01 -3.20740417e-02 -1.09405415e-02 -1.68209448e-02\n",
      " -1.88024208e-01 -2.25264117e-01 -2.60257393e-01  5.96274361e-02\n",
      "  3.44245642e-01  1.88142851e-01 -1.96789831e-01  9.46442038e-03\n",
      " -1.62771210e-01  8.21073353e-03  6.15253001e-02  7.56573603e-02\n",
      " -3.97688672e-02 -8.74070823e-02 -8.63565952e-02  5.64627573e-02\n",
      "  1.08575881e-01  3.80605720e-02 -1.34432064e-02  1.99107736e-01\n",
      " -3.98967825e-02  5.36373481e-02 -3.22570140e-03  1.27237048e-02\n",
      " -1.54328167e-01 -1.74205061e-02 -1.66684493e-01 -5.50388768e-02\n",
      " -1.19718537e-02 -2.41442025e-02 -6.96447678e-03  1.15151212e-01\n",
      " -1.96985632e-01  7.62163326e-02  9.82696470e-03 -1.83683094e-02\n",
      " -1.49887186e-02  1.14580654e-01 -9.38051194e-02 -4.92025875e-02\n",
      "  7.84644037e-02 -2.16401219e-01  2.34739870e-01  2.83715785e-01\n",
      "  4.36122082e-02  1.60627782e-01  7.90220499e-02  6.04831502e-02\n",
      " -7.46578258e-03 -2.95161121e-02 -1.53666779e-01 -9.25285816e-02\n",
      "  2.62815170e-02  7.98772424e-02  9.12970826e-02  5.86388260e-03]\n"
     ]
    }
   ],
   "source": [
    "print(face_encoding)"
   ]
  },
  {
   "cell_type": "markdown",
   "metadata": {},
   "source": [
    "# convert the face encodings to face and saving it"
   ]
  },
  {
   "cell_type": "code",
   "execution_count": 22,
   "metadata": {},
   "outputs": [],
   "source": [
    "from PIL import Image"
   ]
  },
  {
   "cell_type": "code",
   "execution_count": 23,
   "metadata": {},
   "outputs": [],
   "source": [
    "for face_location in face_locations:\n",
    "    top,right,bottom,left=face_location\n",
    "    face_image=image[top:bottom,left:right]\n",
    "    pil_image=Image.fromarray(face_image)\n",
    "    pil_image.show()\n",
    "    pil_image.save(f\"{top}.jpg\")"
   ]
  },
  {
   "cell_type": "code",
   "execution_count": null,
   "metadata": {},
   "outputs": [],
   "source": []
  }
 ],
 "metadata": {
  "kernelspec": {
   "display_name": "Python 3",
   "language": "python",
   "name": "python3"
  },
  "language_info": {
   "codemirror_mode": {
    "name": "ipython",
    "version": 3
   },
   "file_extension": ".py",
   "mimetype": "text/x-python",
   "name": "python",
   "nbconvert_exporter": "python",
   "pygments_lexer": "ipython3",
   "version": "3.8.0"
  }
 },
 "nbformat": 4,
 "nbformat_minor": 4
}
