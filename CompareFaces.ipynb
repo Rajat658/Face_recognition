{
 "cells": [
  {
   "cell_type": "code",
   "execution_count": 2,
   "metadata": {},
   "outputs": [],
   "source": [
    "import face_recognition as face\n",
    "image_of_bill=face.load_image_file(\"img/known/Bill Gates.jpg\")"
   ]
  },
  {
   "cell_type": "code",
   "execution_count": 4,
   "metadata": {},
   "outputs": [],
   "source": [
    "bill_face_encoding=face.face_encodings(image_of_bill)[0]"
   ]
  },
  {
   "cell_type": "code",
   "execution_count": 8,
   "metadata": {},
   "outputs": [],
   "source": [
    "unknown_face=face.load_image_file('img/unknown/bill-gates-750-563.jpg')\n",
    "unknown_face_encoding=face.face_encodings(unknown_face)[0]"
   ]
  },
  {
   "cell_type": "code",
   "execution_count": 9,
   "metadata": {},
   "outputs": [
    {
     "name": "stdout",
     "output_type": "stream",
     "text": [
      "This Image is of Bill Gates\n"
     ]
    }
   ],
   "source": [
    "result=face.compare_faces([bill_face_encoding],unknown_face_encoding)\n",
    "if result[0]:\n",
    "    print(\"This Image is of Bill Gates\")\n",
    "else:\n",
    "    print(\"This Is not Bill Gates\")"
   ]
  },
  {
   "cell_type": "code",
   "execution_count": null,
   "metadata": {},
   "outputs": [],
   "source": []
  }
 ],
 "metadata": {
  "kernelspec": {
   "display_name": "Python 3",
   "language": "python",
   "name": "python3"
  },
  "language_info": {
   "codemirror_mode": {
    "name": "ipython",
    "version": 3
   },
   "file_extension": ".py",
   "mimetype": "text/x-python",
   "name": "python",
   "nbconvert_exporter": "python",
   "pygments_lexer": "ipython3",
   "version": "3.8.0"
  }
 },
 "nbformat": 4,
 "nbformat_minor": 4
}
